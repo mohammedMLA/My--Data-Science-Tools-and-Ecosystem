{
  "metadata": {
    "kernelspec": {
      "name": "python",
      "display_name": "Python (Pyodide)",
      "language": "python"
    },
    "language_info": {
      "codemirror_mode": {
        "name": "python",
        "version": 3
      },
      "file_extension": ".py",
      "mimetype": "text/x-python",
      "name": "python",
      "nbconvert_exporter": "python",
      "pygments_lexer": "ipython3",
      "version": "3.8"
    }
  },
  "nbformat_minor": 4,
  "nbformat": 4,
  "cells": [
    {
      "cell_type": "markdown",
      "source": "# Data Science Tools and Ecosystem\n",
      "metadata": {}
    },
    {
      "cell_type": "markdown",
      "source": "In this notebook, Data Science Tools and Ecosystem are summarized.\n",
      "metadata": {}
    },
    {
      "cell_type": "markdown",
      "source": "# **Objectives :**  ",
      "metadata": {}
    },
    {
      "cell_type": "markdown",
      "source": "\n* To be familir with programming languies in DS\n* To be familir with programming tools  in DS\n* To list Some development environments in DS",
      "metadata": {}
    },
    {
      "cell_type": "markdown",
      "source": "Some languagies for DS are liste below :",
      "metadata": {}
    },
    {
      "cell_type": "markdown",
      "source": "1. Python \n2. Java \n3. R ",
      "metadata": {}
    },
    {
      "cell_type": "markdown",
      "source": "Some of the commonly used libraries used by Data Scientists include:\n1. Numpy\n2. Matplot\n3. Spark \n",
      "metadata": {}
    },
    {
      "cell_type": "markdown",
      "source": "Data Science Tools: ",
      "metadata": {}
    },
    {
      "cell_type": "markdown",
      "source": "| DS Tools  |\n| -------------| \n| Anaconda  | \n| Hadoop  | \n| MYSQL | ",
      "metadata": {}
    },
    {
      "cell_type": "markdown",
      "source": "### Below are a few examples of evaluating arithmetic expressions in Python",
      "metadata": {}
    },
    {
      "cell_type": "code",
      "source": "(3*4)+5   # This a simple arithmetic expression to mutiply then add integers",
      "metadata": {
        "trusted": true
      },
      "outputs": [
        {
          "execution_count": 4,
          "output_type": "execute_result",
          "data": {
            "text/plain": "17"
          },
          "metadata": {}
        }
      ],
      "execution_count": 4
    },
    {
      "cell_type": "code",
      "source": "200/60 # This will convert mins to seconds ",
      "metadata": {
        "trusted": true
      },
      "outputs": [
        {
          "execution_count": 5,
          "output_type": "execute_result",
          "data": {
            "text/plain": "3.3333333333333335"
          },
          "metadata": {}
        }
      ],
      "execution_count": 5
    },
    {
      "cell_type": "markdown",
      "source": "## Author :\nMohammed ",
      "metadata": {}
    },
    {
      "cell_type": "markdown",
      "source": "* Python \n* Java \n* R ",
      "metadata": {}
    }
  ]
}